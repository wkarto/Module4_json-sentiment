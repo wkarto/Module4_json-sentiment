{
 "cells": [
  {
   "cell_type": "markdown",
   "metadata": {},
   "source": [
    "# Web Mining and Applied NLP (44-620)\n",
    "\n",
    "## Requests, JSON, and NLP\n",
    "\n",
    "### Student Name:Womenker Karto     [Github](https://github.com/wkarto/Module4_json-sentiment)\n",
    "\n",
    "Perform the tasks described in the Markdown cells below.  When you have completed the assignment make sure your code cells have all been run (and have output beneath them) and ensure you have committed and pushed ALL of your changes to your assignment repository.\n",
    "\n",
    "Make sure you have [installed spaCy and its pipeline](https://spacy.io/usage#quickstart) and [spaCyTextBlob](https://spacy.io/universe/project/spacy-textblob)\n",
    "\n",
    "Every question that requires you to write code will have a code cell underneath it; you may either write your entire solution in that cell or write it in a python file (`.py`), then import and run the appropriate code to answer the question.\n",
    "\n",
    "This assignment requires that you write additional files (either JSON or pickle files); make sure to submit those files in your repository as well."
   ]
  },
  {
   "cell_type": "markdown",
   "metadata": {},
   "source": [
    "## Question 1:"
   ]
  },
  {
   "cell_type": "markdown",
   "metadata": {},
   "source": [
    "1. The following code accesses the [lyrics.ovh](https://lyricsovh.docs.apiary.io/#reference/0/lyrics-of-a-song/search) public api, searches for the lyrics of a song, and stores it in a dictionary object.  Write the resulting json to a file (either a JSON file or a pickle file; you choose). You will read in the contents of this file for future questions so we do not need to frequently access the API."
   ]
  },
  {
   "cell_type": "code",
   "execution_count": 1,
   "metadata": {},
   "outputs": [],
   "source": [
    "import requests\n",
    "import json\n",
    "\n",
    "response = requests.get('https://api.lyrics.ovh/v1/They Might Be Giants/Birdhouse in your soul')\n",
    "result = response.json()\n",
    "\n",
    "with open(\"lyrics.json\", \"w\", encoding=\"utf-8\") as f:\n",
    "    json.dump(result, f, indent=4)\n"
   ]
  },
  {
   "cell_type": "markdown",
   "metadata": {},
   "source": [
    "## Question 2:"
   ]
  },
  {
   "cell_type": "markdown",
   "metadata": {},
   "source": [
    "2. Read in the contents of your file.  Print the lyrics of the song (not the entire dictionary!) and use spaCyTextBlob to perform sentiment analysis on the lyrics.  Print the polarity score of the sentiment analysis.  Given that the range of the polarity score is `[-1.0,1.0]` which corresponds to how positive or negative the text in question is, do you think the lyrics have a more positive or negative connotaion?  Answer this question in a comment in your code cell."
   ]
  },
  {
   "cell_type": "code",
   "execution_count": 2,
   "metadata": {},
   "outputs": [
    {
     "name": "stdout",
     "output_type": "stream",
     "text": [
      "\n",
      "Polarity Score: 0.045\n"
     ]
    }
   ],
   "source": [
    "import json\n",
    "import spacy\n",
    "from spacytextblob.spacytextblob import SpacyTextBlob\n",
    "\n",
    "with open(\"lyrics.json\", \"r\", encoding=\"utf-8\") as f:\n",
    "    data = json.load(f)\n",
    "\n",
    "lyrics = data.get(\"lyrics\", \"\")\n",
    "\n",
    "# Load spaCy and add TextBlob pipe\n",
    "nlp = spacy.load(\"en_core_web_sm\")\n",
    "if \"spacytextblob\" not in nlp.pipe_names:\n",
    "    nlp.add_pipe(\"spacytextblob\")\n",
    "\n",
    "# Perform sentiment analysis\n",
    "doc = nlp(lyrics)\n",
    "polarity = doc._.blob.polarity\n",
    "print(f\"\\nPolarity Score: {polarity:.3f}\")\n",
    "\n",
    "# The result here is 0.045, which is slightly above neutral.\n",
    "# Therefore, the lyrics have a **slightly positive connotation**."
   ]
  },
  {
   "cell_type": "markdown",
   "metadata": {},
   "source": [
    "## Question 3:"
   ]
  },
  {
   "cell_type": "markdown",
   "metadata": {},
   "source": [
    "3. Write a function that takes an artist, song, and filename, accesses the lyrics.ovh api to get the song lyrics, and writes the results to the specified filename.  Test this function by getting the lyrics to any four songs of your choice and storing them in different files."
   ]
  },
  {
   "cell_type": "code",
   "execution_count": 3,
   "metadata": {},
   "outputs": [
    {
     "name": "stdout",
     "output_type": "stream",
     "text": [
      "Failed to fetch lyrics for 'Yellow' by Coldplay. Status Code: 504\n",
      "Lyrics for 'Bohemian Rhapsody' by Queen saved to 'bohemian.json'\n",
      "Lyrics for 'Lose Yourself' by Eminem saved to 'lose_yourself.json'\n",
      "Lyrics for 'Numb' by Linkin Park saved to 'numb.json'\n"
     ]
    }
   ],
   "source": [
    "import requests\n",
    "import json\n",
    "\n",
    "def save_lyrics(artist, song, filename):\n",
    "    \"\"\"Fetch lyrics from lyrics.ovh API and save to a JSON file.\"\"\"\n",
    "    url = f\"https://api.lyrics.ovh/v1/{artist}/{song}\"\n",
    "    response = requests.get(url)\n",
    "    \n",
    "    if response.status_code == 200:\n",
    "        lyrics_data = response.json()\n",
    "        with open(filename, \"w\", encoding=\"utf-8\") as f:\n",
    "            json.dump(lyrics_data, f, indent=4)\n",
    "        print(f\"Lyrics for '{song}' by {artist} saved to '{filename}'\")\n",
    "    else:\n",
    "        print(f\"Failed to fetch lyrics for '{song}' by {artist}. Status Code: {response.status_code}\")\n",
    "\n",
    "save_lyrics(\"Coldplay\", \"Yellow\", \"yellow.json\")\n",
    "save_lyrics(\"Queen\", \"Bohemian Rhapsody\", \"bohemian.json\")\n",
    "save_lyrics(\"Eminem\", \"Lose Yourself\", \"lose_yourself.json\")\n",
    "save_lyrics(\"Linkin Park\", \"Numb\", \"numb.json\")\n"
   ]
  },
  {
   "cell_type": "markdown",
   "metadata": {},
   "source": [
    "## Question 4:"
   ]
  },
  {
   "cell_type": "markdown",
   "metadata": {},
   "source": [
    "4. Write a function that takes the name of a file that contains song lyrics, loads the file, performs sentiment analysis, and returns the polarity score.  Use this function to print the polarity scores (with the name of the song) of the three files you created in question 3.  Does the reported polarity match your understanding of the song's lyrics? Why or why not do you think that might be?  Answer the questions in either a comment in the code cell or a markdown cell under the code cell."
   ]
  },
  {
   "cell_type": "code",
   "execution_count": 4,
   "metadata": {},
   "outputs": [
    {
     "name": "stdout",
     "output_type": "stream",
     "text": [
      "Bohemian Rhapsody — Polarity Score: -0.003\n",
      "Lose Yourself — Polarity Score: 0.154\n",
      "Numb — Polarity Score: -0.049\n"
     ]
    }
   ],
   "source": [
    "import json\n",
    "import spacy\n",
    "from spacytextblob.spacytextblob import SpacyTextBlob\n",
    "\n",
    "nlp = spacy.load(\"en_core_web_sm\")\n",
    "if \"spacytextblob\" not in nlp.pipe_names:\n",
    "    nlp.add_pipe(\"spacytextblob\", last=True)\n",
    "\n",
    "def get_lyrics_sentiment(filename):\n",
    "    \"\"\"Load lyrics from a JSON file and return polarity score.\"\"\"\n",
    "    with open(filename, \"r\", encoding=\"utf-8\") as f:\n",
    "        data = json.load(f)\n",
    "        lyrics = data.get(\"lyrics\", \"\")\n",
    "        doc = nlp(lyrics)\n",
    "        return doc._.blob.polarity\n",
    "\n",
    "# Function call\n",
    "songs = {\n",
    "    \"Bohemian Rhapsody\": \"bohemian.json\",\n",
    "    \"Lose Yourself\": \"lose_yourself.json\",\n",
    "    \"Numb\": \"numb.json\"\n",
    "}\n",
    "\n",
    "for title, file in songs.items():\n",
    "    polarity = get_lyrics_sentiment(file)\n",
    "    print(f\"{title} — Polarity Score: {polarity:.3f}\")\n"
   ]
  },
  {
   "cell_type": "markdown",
   "metadata": {},
   "source": [
    "## Reflection on Sentiment Scores\n",
    "\n",
    "- **Bohemian Rhapsody (-0.003)**:  \n",
    "  Almost neutral. Makes sense since the song has mixed emotions and shifting tones.\n",
    "\n",
    "- **Lose Yourself (0.154)**:  \n",
    "  Slightly positive. Surprising, but maybe because it’s motivational overall.\n",
    "\n",
    "- **Numb (-0.049)**:  \n",
    "  Slightly negative. Fits the theme of feeling lost and frustrated.\n",
    "\n",
    "### Overall:\n",
    "The scores mostly match the mood of the lyrics. Some are subtle, which makes sense since songs can be complex.\n"
   ]
  }
 ],
 "metadata": {
  "kernelspec": {
   "display_name": ".venv",
   "language": "python",
   "name": "python3"
  },
  "language_info": {
   "codemirror_mode": {
    "name": "ipython",
    "version": 3
   },
   "file_extension": ".py",
   "mimetype": "text/x-python",
   "name": "python",
   "nbconvert_exporter": "python",
   "pygments_lexer": "ipython3",
   "version": "3.10.0"
  }
 },
 "nbformat": 4,
 "nbformat_minor": 4
}
